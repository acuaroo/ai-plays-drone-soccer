{
 "cells": [
  {
   "cell_type": "code",
   "execution_count": 1,
   "metadata": {
    "is_executing": true
   },
   "outputs": [],
   "source": [
    "import os\n",
    "\n",
    "import tensorflow as tf\n",
    "import numpy as np\n",
    "import matplotlib.pyplot as plt\n",
    "\n",
    "from tensorflow.keras.models import Sequential\n",
    "from tensorflow.keras import layers\n",
    "from collections import Counter\n",
    "\n",
    "from tensorflow.keras.preprocessing.image import load_img, img_to_array\n",
    "from sklearn.model_selection import train_test_split\n",
    "from concurrent.futures import ProcessPoolExecutor\n",
    "\n",
    "import random"
   ]
  },
  {
   "cell_type": "code",
   "execution_count": 2,
   "metadata": {},
   "outputs": [],
   "source": [
    "TARGET_SIZE = (144, 256)"
   ]
  },
  {
   "cell_type": "code",
   "execution_count": 3,
   "metadata": {},
   "outputs": [],
   "source": [
    "def parse_filename(filename):\n",
    "    components = filename.split(\"_\")\n",
    "    offset = 0\n",
    "    \n",
    "    if \"-\" in components[1]:\n",
    "        offset = 1\n",
    "    \n",
    "    if len(components) < 6 + offset:\n",
    "        return False, []\n",
    "   \n",
    "    x = int(components[1 + offset])\n",
    "    y = int(components[2 + offset])\n",
    "    z = int(components[3 + offset])\n",
    "    r = int(components[4 + offset])\n",
    "    is_flying = int(components[5 + offset].split(\".\")[0])\n",
    "\n",
    "    if x == 0 and y == 0 and z == 0 and r == 0:\n",
    "        return False, []\n",
    "\n",
    "    return True, [x, y, z, r, is_flying]"
   ]
  },
  {
   "cell_type": "code",
   "execution_count": 4,
   "metadata": {},
   "outputs": [],
   "source": [
    "image_data = []\n",
    "label_data = []\n",
    "\n",
    "for date_folder in os.listdir(\"data\"):\n",
    "    date_folder_path = os.path.join(\"data\", date_folder)\n",
    "\n",
    "    if os.path.isdir(date_folder_path):\n",
    "        for filename in os.listdir(date_folder_path):\n",
    "            if filename.endswith(\".png\"):\n",
    "                image_path = os.path.join(date_folder_path, filename)\n",
    "                valid, components = parse_filename(filename)\n",
    "                \n",
    "                if valid:\n",
    "                    image_data.append(image_path)\n",
    "                    label_data.append(components)"
   ]
  },
  {
   "cell_type": "code",
   "execution_count": 5,
   "metadata": {},
   "outputs": [],
   "source": [
    "count = Counter([tuple(x) for x in label_data])\n",
    "count = count.most_common()\n",
    "\n",
    "count = [x for x in count if x[1] >= 100]\n",
    "\n",
    "f_image_data = [image_data[i] for i in range(len(label_data)) if tuple(label_data[i]) in [x[0] for x in count]]\n",
    "f_label_data = [label_data[i] for i in range(len(label_data)) if tuple(label_data[i]) in [x[0] for x in count]]\n",
    "\n",
    "f_label_data = [\"_\".join([str(x) for x in y]) for y in f_label_data]\n",
    "\n",
    "tokenizer = {x: i for i, x in enumerate(set(f_label_data))}\n",
    "detokenizer = {i: x for i, x in enumerate(set(f_label_data))}"
   ]
  },
  {
   "cell_type": "code",
   "execution_count": 6,
   "metadata": {},
   "outputs": [],
   "source": [
    "def preprocess_image(image_path):\n",
    "    image = load_img(image_path, target_size=TARGET_SIZE) \n",
    "    image = img_to_array(image) / 255.0\n",
    "\n",
    "    return image"
   ]
  },
  {
   "cell_type": "code",
   "execution_count": 7,
   "metadata": {},
   "outputs": [],
   "source": [
    "def preprocess_and_cache_images(image_paths, cache_folder, max_workers):\n",
    "    os.makedirs(cache_folder, exist_ok=True)\n",
    "    cached_images = []\n",
    "\n",
    "    with ProcessPoolExecutor(max_workers=max_workers) as executor:\n",
    "        for image_path in image_paths:\n",
    "            cached_path = os.path.join(cache_folder, os.path.basename(image_path) + \".npy\")\n",
    "            if os.path.exists(cached_path):\n",
    "                cached_images.append(np.load(cached_path))\n",
    "            else:\n",
    "                image = preprocess_image(image_path)\n",
    "                np.save(cached_path, image)\n",
    "                cached_images.append(cached_path)\n",
    "\n",
    "    return cached_images"
   ]
  },
  {
   "cell_type": "code",
   "execution_count": 8,
   "metadata": {},
   "outputs": [],
   "source": [
    "f_image_data = preprocess_and_cache_images(f_image_data, \"cache\", max_workers=os.cpu_count())\n",
    "one_hot_labels = tf.keras.utils.to_categorical([tokenizer[x] for x in f_label_data])"
   ]
  },
  {
   "cell_type": "code",
   "execution_count": 9,
   "metadata": {},
   "outputs": [
    {
     "name": "stdout",
     "output_type": "stream",
     "text": [
      "11849 11849 10774 10774\n"
     ]
    }
   ],
   "source": [
    "print(len(label_data), len(image_data), len(f_label_data), len(f_image_data))"
   ]
  },
  {
   "cell_type": "code",
   "execution_count": 10,
   "metadata": {},
   "outputs": [
    {
     "name": "stdout",
     "output_type": "stream",
     "text": [
      "(8619, 144, 256, 3) (2155, 144, 256, 3) (8619, 15) (2155, 15)\n"
     ]
    }
   ],
   "source": [
    "image_train, image_val, label_train, label_val = train_test_split(\n",
    "    f_image_data, one_hot_labels, test_size=0.2, random_state=42)\n",
    "\n",
    "image_train = np.array(image_train)\n",
    "image_val = np.array(image_val)\n",
    "label_train = np.array(label_train)\n",
    "label_val = np.array(label_val)\n",
    "\n",
    "print(image_train.shape, image_val.shape, label_train.shape, label_val.shape)"
   ]
  },
  {
   "cell_type": "code",
   "execution_count": 11,
   "metadata": {},
   "outputs": [],
   "source": [
    "# make a CNN\n",
    "model = Sequential()\n",
    "model.add(layers.Conv2D(64, (3, 3), input_shape=(TARGET_SIZE[0], TARGET_SIZE[1], 3), activation=\"relu\"))\n",
    "model.add(layers.MaxPooling2D(pool_size=(3, 3)))\n",
    "model.add(layers.Conv2D(32, (3, 3), activation=\"relu\"))\n",
    "model.add(layers.MaxPooling2D(pool_size=(3, 3)))\n",
    "model.add(layers.Conv2D(16, (3, 3), activation=\"relu\"))\n",
    "model.add(layers.MaxPooling2D(pool_size=(3, 3)))\n",
    "\n",
    "model.add(layers.Flatten())\n",
    "\n",
    "model.add(layers.Dense(64, activation=\"relu\"))\n",
    "model.add(layers.Dense(len(tokenizer), activation=\"softmax\"))"
   ]
  },
  {
   "cell_type": "code",
   "execution_count": 12,
   "metadata": {},
   "outputs": [
    {
     "name": "stdout",
     "output_type": "stream",
     "text": [
      "Model: \"sequential\"\n",
      "_________________________________________________________________\n",
      " Layer (type)                Output Shape              Param #   \n",
      "=================================================================\n",
      " conv2d (Conv2D)             (None, 142, 254, 64)      1792      \n",
      "                                                                 \n",
      " max_pooling2d (MaxPooling2D  (None, 47, 84, 64)       0         \n",
      " )                                                               \n",
      "                                                                 \n",
      " conv2d_1 (Conv2D)           (None, 45, 82, 32)        18464     \n",
      "                                                                 \n",
      " max_pooling2d_1 (MaxPooling  (None, 15, 27, 32)       0         \n",
      " 2D)                                                             \n",
      "                                                                 \n",
      " conv2d_2 (Conv2D)           (None, 13, 25, 16)        4624      \n",
      "                                                                 \n",
      " max_pooling2d_2 (MaxPooling  (None, 4, 8, 16)         0         \n",
      " 2D)                                                             \n",
      "                                                                 \n",
      " flatten (Flatten)           (None, 512)               0         \n",
      "                                                                 \n",
      " dense (Dense)               (None, 64)                32832     \n",
      "                                                                 \n",
      " dense_1 (Dense)             (None, 15)                975       \n",
      "                                                                 \n",
      "=================================================================\n",
      "Total params: 58,687\n",
      "Trainable params: 58,687\n",
      "Non-trainable params: 0\n",
      "_________________________________________________________________\n",
      "None\n"
     ]
    }
   ],
   "source": [
    "print(model.summary())"
   ]
  },
  {
   "cell_type": "code",
   "execution_count": 13,
   "metadata": {},
   "outputs": [
    {
     "name": "stdout",
     "output_type": "stream",
     "text": [
      "Epoch 1/10\n",
      "270/270 [==============================] - 12s 29ms/step - loss: 2.1326 - accuracy: 0.3441 - val_loss: 1.8395 - val_accuracy: 0.4394\n",
      "Epoch 2/10\n",
      "270/270 [==============================] - 7s 27ms/step - loss: 1.6911 - accuracy: 0.4895 - val_loss: 1.6038 - val_accuracy: 0.5132\n",
      "Epoch 3/10\n",
      "270/270 [==============================] - 7s 26ms/step - loss: 1.4554 - accuracy: 0.5683 - val_loss: 1.4889 - val_accuracy: 0.5587\n",
      "Epoch 4/10\n",
      "270/270 [==============================] - 7s 27ms/step - loss: 1.3021 - accuracy: 0.6109 - val_loss: 1.4084 - val_accuracy: 0.5796\n",
      "Epoch 5/10\n",
      "270/270 [==============================] - 7s 26ms/step - loss: 1.1881 - accuracy: 0.6402 - val_loss: 1.3690 - val_accuracy: 0.6056\n",
      "Epoch 6/10\n",
      "270/270 [==============================] - 7s 26ms/step - loss: 1.1021 - accuracy: 0.6652 - val_loss: 1.3091 - val_accuracy: 0.6172\n",
      "Epoch 7/10\n",
      "270/270 [==============================] - 7s 26ms/step - loss: 1.0137 - accuracy: 0.6880 - val_loss: 1.3125 - val_accuracy: 0.6237\n",
      "Epoch 8/10\n",
      "270/270 [==============================] - 7s 26ms/step - loss: 0.9432 - accuracy: 0.7067 - val_loss: 1.3078 - val_accuracy: 0.6153\n",
      "Epoch 9/10\n",
      "270/270 [==============================] - 7s 26ms/step - loss: 0.8772 - accuracy: 0.7268 - val_loss: 1.3310 - val_accuracy: 0.6195\n",
      "Epoch 10/10\n",
      "270/270 [==============================] - 7s 26ms/step - loss: 0.8080 - accuracy: 0.7430 - val_loss: 1.3569 - val_accuracy: 0.6070\n"
     ]
    },
    {
     "data": {
      "text/plain": [
       "<keras.callbacks.History at 0x1b53616f8e0>"
      ]
     },
     "execution_count": 13,
     "metadata": {},
     "output_type": "execute_result"
    }
   ],
   "source": [
    "model.compile(\n",
    "    optimizer=\"adam\",\n",
    "    loss=\"categorical_crossentropy\",\n",
    "    metrics=[\"accuracy\"]\n",
    ")\n",
    "\n",
    "model.fit(\n",
    "    image_train,\n",
    "    label_train,\n",
    "    epochs=10,\n",
    "    batch_size=32,\n",
    "    validation_data=(image_val, label_val)\n",
    ")"
   ]
  },
  {
   "cell_type": "code",
   "execution_count": 14,
   "metadata": {},
   "outputs": [],
   "source": [
    "directory = \"models/VA62_9-6-23\"\n",
    "os.makedirs(directory, exist_ok=True)\n",
    "\n",
    "model.save(f\"{directory}/model.h5\")\n",
    "np.save(f\"{directory}/tokenizer.npy\", tokenizer)\n",
    "np.save(f\"{directory}/detokenizer.npy\", detokenizer)"
   ]
  },
  {
   "cell_type": "code",
   "execution_count": 15,
   "metadata": {},
   "outputs": [],
   "source": [
    "# def predict(filename, from_folder=False):\n",
    "#     image = None\n",
    "\n",
    "#     if from_folder:\n",
    "#         image = preprocess_image(filename)\n",
    "\n",
    "#     image = np.expand_dims(image or filename, axis=0)\n",
    "\n",
    "#     if not from_folder:\n",
    "#         plt.imshow(image[0])\n",
    "\n",
    "#     predictions = model.predict(image)[0]\n",
    "#     predictions = np.argmax(predictions)\n",
    "\n",
    "#     result = detokenizer[predictions]\n",
    "\n",
    "#     return result\n"
   ]
  },
  {
   "cell_type": "code",
   "execution_count": 16,
   "metadata": {},
   "outputs": [],
   "source": [
    "# ran_index = random.randint(0, len(image_val))\n",
    "# predictions = predict(image_val[ran_index], from_folder=False)\n",
    "# label = label_val[ran_index]\n",
    "\n",
    "# print(f\"predictions | {predictions}\")\n",
    "# print(f\"label       | {detokenizer[np.argmax(label)]}\")\n"
   ]
  }
 ],
 "metadata": {
  "kernelspec": {
   "display_name": "Python 3",
   "language": "python",
   "name": "python3"
  },
  "language_info": {
   "codemirror_mode": {
    "name": "ipython",
    "version": 3
   },
   "file_extension": ".py",
   "mimetype": "text/x-python",
   "name": "python",
   "nbconvert_exporter": "python",
   "pygments_lexer": "ipython3",
   "version": "3.10.10"
  },
  "orig_nbformat": 4
 },
 "nbformat": 4,
 "nbformat_minor": 2
}
