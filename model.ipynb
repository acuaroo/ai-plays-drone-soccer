{
 "cells": [
  {
   "cell_type": "code",
   "execution_count": 1,
   "metadata": {},
   "outputs": [],
   "source": [
    "import os\n",
    "\n",
    "import tensorflow as tf\n",
    "import numpy as np\n",
    "\n",
    "from tensorflow.keras.models import Sequential\n",
    "from tensorflow.keras.layers import Conv2D, MaxPooling2D, Flatten, Dense\n",
    "from tensorflow.keras.utils import Sequence\n",
    "\n",
    "from sklearn.model_selection import train_test_split\n",
    "from tensorflow.keras.preprocessing.image import load_img, img_to_array"
   ]
  },
  {
   "cell_type": "code",
   "execution_count": 2,
   "metadata": {},
   "outputs": [],
   "source": [
    "TARGET_SIZE = (256, 144)"
   ]
  },
  {
   "cell_type": "code",
   "execution_count": 3,
   "metadata": {},
   "outputs": [],
   "source": [
    "def parse_filename(filename):\n",
    "    components = filename.split(\"_\")\n",
    "    offset = 0\n",
    "    \n",
    "    if \"-\" in components[1]:\n",
    "        offset = 1\n",
    "    \n",
    "    if len(components) < 6 + offset:\n",
    "        return False, []\n",
    "   \n",
    "    x = int(components[1 + offset])\n",
    "    y = int(components[2 + offset])\n",
    "    z = int(components[3 + offset])\n",
    "    r = int(components[4 + offset])\n",
    "    is_flying = int(components[5 + offset].split(\".\")[0])\n",
    "\n",
    "    return True, [x, y, z, r, is_flying]"
   ]
  },
  {
   "cell_type": "code",
   "execution_count": null,
   "metadata": {},
   "outputs": [],
   "source": [
    "image_data = []\n",
    "label_data = []\n",
    "\n",
    "for date_folder in os.listdir(\"data\"):\n",
    "    date_folder_path = os.path.join(\"data\", date_folder)\n",
    "\n",
    "    if os.path.isdir(date_folder_path):\n",
    "        for filename in os.listdir(date_folder_path):\n",
    "            if filename.endswith(\".png\"):\n",
    "                image_path = os.path.join(date_folder_path, filename)\n",
    "                valid, components = parse_filename(filename)\n",
    "                \n",
    "                if valid:\n",
    "                    image_data.append(image_path)\n",
    "                    label_data.append(components)"
   ]
  },
  {
   "cell_type": "code",
   "execution_count": null,
   "metadata": {},
   "outputs": [],
   "source": [
    "print(image_data.shape, label_data.shape)"
   ]
  },
  {
   "cell_type": "code",
   "execution_count": null,
   "metadata": {},
   "outputs": [],
   "source": [
    "label_data = np.array(label_data)\n",
    "\n",
    "label_data = tf.keras.utils.to_categorical(label_data, num_classes=3)\n",
    "label_data = label_data.reshape(label_data.shape[0], -1)\n",
    "\n",
    "def preprocess_image(image_path):\n",
    "    image = load_img(image_path, target_size=TARGET_SIZE) \n",
    "    image = img_to_array(image) / 255.0\n",
    "\n",
    "    return image\n",
    "\n",
    "image_data = np.array([preprocess_image(image_path) for image_path in image_data])\n",
    "image_train_data, image_validation_data, label_train_data, label_validation_data = train_test_split(image_data, label_data, test_size=0.2, random_state=42)"
   ]
  },
  {
   "cell_type": "code",
   "execution_count": null,
   "metadata": {},
   "outputs": [],
   "source": [
    "print(image_train_data.shape, image_validation_data.shape, label_train_data.shape, label_validation_data.shape)"
   ]
  },
  {
   "cell_type": "code",
   "execution_count": null,
   "metadata": {},
   "outputs": [],
   "source": [
    "model = Sequential()\n",
    "\n",
    "model.add(Conv2D(32, (3, 3), activation=\"relu\", input_shape=(TARGET_SIZE[0], TARGET_SIZE[1], 3)))\n",
    "model.add(MaxPooling2D((2, 2)))\n",
    "model.add(Conv2D(64, (3, 3), activation=\"relu\"))\n",
    "model.add(MaxPooling2D((2, 2)))\n",
    "model.add(Conv2D(128, (3, 3), activation=\"relu\"))\n",
    "model.add(MaxPooling2D((2, 2)))\n",
    "model.add(Flatten())\n",
    "model.add(Dense(64, activation='relu'))\n",
    "model.add(Dense(15, activation='softmax'))"
   ]
  },
  {
   "cell_type": "code",
   "execution_count": null,
   "metadata": {},
   "outputs": [],
   "source": [
    "class DataGenerator(Sequence):\n",
    "    def __init__(self, x_set, y_set, batch_size):\n",
    "        self.x, self.y = x_set, y_set\n",
    "        self.batch_size = batch_size\n",
    "\n",
    "    def __len__(self):\n",
    "        return int(np.ceil(len(self.x) / float(self.batch_size)))\n",
    "\n",
    "    def __getitem__(self, idx):\n",
    "        batch_x = self.x[idx * self.batch_size:(idx + 1) * self.batch_size]\n",
    "        batch_y = self.y[idx * self.batch_size:(idx + 1) * self.batch_size]\n",
    "        \n",
    "        return batch_x, batch_y"
   ]
  },
  {
   "cell_type": "code",
   "execution_count": null,
   "metadata": {},
   "outputs": [],
   "source": [
    "training_generator = DataGenerator(image_train_data, label_train_data, 64)\n",
    "validating_generator = DataGenerator(image_validation_data, label_validation_data, 64)"
   ]
  },
  {
   "cell_type": "code",
   "execution_count": null,
   "metadata": {},
   "outputs": [],
   "source": [
    "model.compile(optimizer='adam', loss='binary_crossentropy', metrics=['accuracy'])\n",
    "\n",
    "model.fit(training_generator, epochs=10, validation_data=validating_generator)"
   ]
  },
  {
   "cell_type": "code",
   "execution_count": null,
   "metadata": {},
   "outputs": [],
   "source": [
    "def array_to_components(array):\n",
    "    # turn array [0. 0. 0. 0. 0. 0. 1. 0. 0. 0. 0. 0. 0. 0. 0.]"
   ]
  },
  {
   "cell_type": "code",
   "execution_count": null,
   "metadata": {},
   "outputs": [],
   "source": [
    "import cv2\n",
    "\n",
    "def predict_image(filename):\n",
    "    test_image = cv2.imread(filename)\n",
    "    test_image = cv2.resize(test_image, TARGET_SIZE)\n",
    "    test_image = np.expand_dims(test_image, axis=0)\n",
    "\n",
    "    print(test_image.shape)\n",
    "\n",
    "    # reverse the X and Y axes of the shape\n",
    "    test_image = np.swapaxes(test_image, 1, 2)\n",
    "\n",
    "    test_image = test_image.astype(\"float32\") / 255.0\n",
    "    prediction = model.predict(test_image)[0]\n",
    "\n",
    "    # round each prediction to the nearestint\n",
    "    prediction = np.round(prediction)\n",
    "\n",
    "    return prediction\n"
   ]
  },
  {
   "cell_type": "code",
   "execution_count": null,
   "metadata": {},
   "outputs": [],
   "source": [
    "print(predict_image(\"data/2023-07-30_14-25-37/14-30-44_0_0_0_0_2.png\"))"
   ]
  }
 ],
 "metadata": {
  "kernelspec": {
   "display_name": "Python 3",
   "language": "python",
   "name": "python3"
  },
  "language_info": {
   "codemirror_mode": {
    "name": "ipython",
    "version": 3
   },
   "file_extension": ".py",
   "mimetype": "text/x-python",
   "name": "python",
   "nbconvert_exporter": "python",
   "pygments_lexer": "ipython3",
   "version": "3.10.10"
  },
  "orig_nbformat": 4
 },
 "nbformat": 4,
 "nbformat_minor": 2
}
