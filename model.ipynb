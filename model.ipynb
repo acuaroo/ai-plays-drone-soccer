{
 "cells": [
  {
   "cell_type": "code",
   "execution_count": 1,
   "metadata": {
    "is_executing": true
   },
   "outputs": [],
   "source": [
    "import os\n",
    "\n",
    "import tensorflow as tf\n",
    "import numpy as np\n",
    "import matplotlib.pyplot as plt\n",
    "\n",
    "from tensorflow.keras.models import Sequential\n",
    "from tensorflow.keras import layers\n",
    "from collections import Counter\n",
    "\n",
    "from tensorflow.keras.preprocessing.image import load_img, img_to_array\n",
    "from sklearn.model_selection import train_test_split\n",
    "from concurrent.futures import ProcessPoolExecutor\n",
    "\n",
    "import random"
   ]
  },
  {
   "cell_type": "code",
   "execution_count": 2,
   "metadata": {},
   "outputs": [],
   "source": [
    "TARGET_SIZE = (144, 256)"
   ]
  },
  {
   "cell_type": "code",
   "execution_count": 3,
   "metadata": {},
   "outputs": [],
   "source": [
    "def parse_filename(filename):\n",
    "    components = filename.split(\"_\")\n",
    "    offset = 0\n",
    "    \n",
    "    if \"-\" in components[1]:\n",
    "        offset = 1\n",
    "    \n",
    "    if len(components) < 6 + offset:\n",
    "        return False, []\n",
    "   \n",
    "    x = int(components[1 + offset])\n",
    "    y = int(components[2 + offset])\n",
    "    z = int(components[3 + offset])\n",
    "    r = int(components[4 + offset])\n",
    "    is_flying = int(components[5 + offset].split(\".\")[0])\n",
    "\n",
    "    if x == 0 and y == 0 and z == 0 and r == 0:\n",
    "        return False, []\n",
    "\n",
    "    return True, [x, y, z, r, is_flying]"
   ]
  },
  {
   "cell_type": "code",
   "execution_count": 4,
   "metadata": {},
   "outputs": [],
   "source": [
    "image_data = []\n",
    "label_data = []\n",
    "\n",
    "for date_folder in os.listdir(\"data\"):\n",
    "    date_folder_path = os.path.join(\"data\", date_folder)\n",
    "\n",
    "    if os.path.isdir(date_folder_path):\n",
    "        for filename in os.listdir(date_folder_path):\n",
    "            if filename.endswith(\".png\"):\n",
    "                image_path = os.path.join(date_folder_path, filename)\n",
    "                valid, components = parse_filename(filename)\n",
    "                \n",
    "                if valid:\n",
    "                    image_data.append(image_path)\n",
    "                    label_data.append(components)"
   ]
  },
  {
   "cell_type": "code",
   "execution_count": 5,
   "metadata": {},
   "outputs": [],
   "source": [
    "count = Counter([tuple(x) for x in label_data])\n",
    "count = count.most_common()\n",
    "\n",
    "count = [x for x in count if x[1] >= 100]\n",
    "\n",
    "f_image_data = [image_data[i] for i in range(len(label_data)) if tuple(label_data[i]) in [x[0] for x in count]]\n",
    "f_label_data = [label_data[i] for i in range(len(label_data)) if tuple(label_data[i]) in [x[0] for x in count]]\n",
    "\n",
    "f_label_data = [\"_\".join([str(x) for x in y]) for y in f_label_data]\n",
    "\n",
    "tokenizer = {x: i for i, x in enumerate(set(f_label_data))}\n",
    "detokenizer = {i: x for i, x in enumerate(set(f_label_data))}"
   ]
  },
  {
   "cell_type": "code",
   "execution_count": 6,
   "metadata": {},
   "outputs": [],
   "source": [
    "def preprocess_image(image_path):\n",
    "    image = load_img(image_path, target_size=TARGET_SIZE) \n",
    "    image = img_to_array(image) / 255.0\n",
    "\n",
    "    return image"
   ]
  },
  {
   "cell_type": "code",
   "execution_count": 7,
   "metadata": {},
   "outputs": [],
   "source": [
    "def preprocess_and_cache_images(image_paths, cache_folder, max_workers):\n",
    "    os.makedirs(cache_folder, exist_ok=True)\n",
    "    cached_images = []\n",
    "\n",
    "    with ProcessPoolExecutor(max_workers=max_workers) as executor:\n",
    "        for image_path in image_paths:\n",
    "            cached_path = os.path.join(cache_folder, os.path.basename(image_path) + \".npy\")\n",
    "            if os.path.exists(cached_path):\n",
    "                cached_images.append(np.load(cached_path))\n",
    "            else:\n",
    "                image = preprocess_image(image_path)\n",
    "                np.save(cached_path, image)\n",
    "                cached_images.append(cached_path)\n",
    "\n",
    "    return cached_images"
   ]
  },
  {
   "cell_type": "code",
   "execution_count": 8,
   "metadata": {},
   "outputs": [],
   "source": [
    "f_image_data = preprocess_and_cache_images(f_image_data, \"cache\", max_workers=os.cpu_count())\n",
    "one_hot_labels = tf.keras.utils.to_categorical([tokenizer[x] for x in f_label_data])"
   ]
  },
  {
   "cell_type": "code",
   "execution_count": 9,
   "metadata": {},
   "outputs": [
    {
     "name": "stdout",
     "output_type": "stream",
     "text": [
      "11849 11849 10774 10774\n"
     ]
    }
   ],
   "source": [
    "print(len(label_data), len(image_data), len(f_label_data), len(f_image_data))"
   ]
  },
  {
   "cell_type": "code",
   "execution_count": 10,
   "metadata": {},
   "outputs": [
    {
     "name": "stdout",
     "output_type": "stream",
     "text": [
      "(8619, 144, 256, 3) (2155, 144, 256, 3) (8619, 15) (2155, 15)\n"
     ]
    }
   ],
   "source": [
    "image_train, image_val, label_train, label_val = train_test_split(\n",
    "    f_image_data, one_hot_labels, test_size=0.2, random_state=42)\n",
    "\n",
    "image_train = np.array(image_train)\n",
    "image_val = np.array(image_val)\n",
    "label_train = np.array(label_train)\n",
    "label_val = np.array(label_val)\n",
    "\n",
    "print(image_train.shape, image_val.shape, label_train.shape, label_val.shape)"
   ]
  },
  {
   "cell_type": "code",
   "execution_count": 11,
   "metadata": {},
   "outputs": [],
   "source": [
    "model = Sequential()\n",
    "model.add(layers.Conv2D(128, (3, 3), input_shape=(TARGET_SIZE[0], TARGET_SIZE[1], 3), activation=\"relu\"))\n",
    "model.add(layers.MaxPooling2D(pool_size=(3, 3)))\n",
    "model.add(layers.Conv2D(64, (2, 2), activation=\"relu\"))\n",
    "model.add(layers.MaxPooling2D(pool_size=(3, 3)))\n",
    "model.add(layers.Conv2D(32, (2, 2), activation=\"relu\"))\n",
    "model.add(layers.MaxPooling2D(pool_size=(3, 3)))\n",
    "\n",
    "model.add(layers.Flatten())\n",
    "\n",
    "model.add(layers.Dense(64, activation=\"relu\"))\n",
    "model.add(layers.Dense(len(tokenizer), activation=\"softmax\"))"
   ]
  },
  {
   "cell_type": "code",
   "execution_count": 12,
   "metadata": {},
   "outputs": [],
   "source": [
    "model.compile(\n",
    "    optimizer=\"adam\",\n",
    "    loss=\"categorical_crossentropy\",\n",
    "    metrics=[\"accuracy\"]\n",
    ")"
   ]
  },
  {
   "cell_type": "code",
   "execution_count": 13,
   "metadata": {},
   "outputs": [],
   "source": [
    "class DataGenerator(tf.keras.utils.Sequence):\n",
    "    def __init__(self, image_paths, labels, batch_size, shuffle=True):\n",
    "        self.image_paths = image_paths\n",
    "        self.labels = labels\n",
    "        self.batch_size = batch_size\n",
    "        self.shuffle = shuffle\n",
    "        self.on_epoch_end()\n",
    "\n",
    "    def __len__(self):\n",
    "        return int(np.floor(len(self.image_paths) / self.batch_size))\n",
    "\n",
    "    def __getitem__(self, index):\n",
    "        indexes = self.indexes[index * self.batch_size:(index + 1) * self.batch_size]\n",
    "        image_paths_temp = [self.image_paths[k] for k in indexes]\n",
    "        labels_temp = [self.labels[k] for k in indexes]\n",
    "\n",
    "        images = []\n",
    "        for image_path in image_paths_temp:\n",
    "            if isinstance(image_path, str):\n",
    "                images.append(np.load(image_path))\n",
    "            else:\n",
    "                images.append(image_path)\n",
    "\n",
    "        return np.array(images), np.array(labels_temp)\n",
    "\n",
    "    def on_epoch_end(self):\n",
    "        self.indexes = np.arange(len(self.image_paths))\n",
    "        if self.shuffle == True:\n",
    "            np.random.shuffle(self.indexes)"
   ]
  },
  {
   "cell_type": "code",
   "execution_count": 17,
   "metadata": {},
   "outputs": [
    {
     "name": "stdout",
     "output_type": "stream",
     "text": [
      "Epoch 1/10\n"
     ]
    },
    {
     "name": "stdout",
     "output_type": "stream",
     "text": [
      "269/269 [==============================] - 13s 48ms/step - loss: 0.4032 - accuracy: 0.8671 - val_loss: 1.7476 - val_accuracy: 0.6297\n",
      "Epoch 2/10\n",
      "269/269 [==============================] - 13s 49ms/step - loss: 0.3706 - accuracy: 0.8740 - val_loss: 1.8356 - val_accuracy: 0.6250\n",
      "Epoch 3/10\n",
      "269/269 [==============================] - 13s 49ms/step - loss: 0.3340 - accuracy: 0.8839 - val_loss: 1.8551 - val_accuracy: 0.6199\n",
      "Epoch 4/10\n",
      "269/269 [==============================] - 13s 48ms/step - loss: 0.2997 - accuracy: 0.8996 - val_loss: 2.0032 - val_accuracy: 0.6437\n",
      "Epoch 5/10\n",
      "269/269 [==============================] - 13s 48ms/step - loss: 0.2531 - accuracy: 0.9145 - val_loss: 2.1125 - val_accuracy: 0.6222\n",
      "Epoch 6/10\n",
      "269/269 [==============================] - 13s 48ms/step - loss: 0.2511 - accuracy: 0.9128 - val_loss: 2.2661 - val_accuracy: 0.6427\n",
      "Epoch 7/10\n",
      "269/269 [==============================] - 13s 48ms/step - loss: 0.2156 - accuracy: 0.9267 - val_loss: 2.3077 - val_accuracy: 0.6133\n",
      "Epoch 8/10\n",
      "269/269 [==============================] - 13s 48ms/step - loss: 0.2026 - accuracy: 0.9324 - val_loss: 2.5961 - val_accuracy: 0.6157\n",
      "Epoch 9/10\n",
      "269/269 [==============================] - 13s 48ms/step - loss: 0.1822 - accuracy: 0.9347 - val_loss: 2.4238 - val_accuracy: 0.6161\n",
      "Epoch 10/10\n",
      "269/269 [==============================] - 13s 48ms/step - loss: 0.1697 - accuracy: 0.9402 - val_loss: 2.7217 - val_accuracy: 0.6105\n"
     ]
    },
    {
     "data": {
      "text/plain": [
       "<keras.callbacks.History at 0x171a2b73d90>"
      ]
     },
     "execution_count": 17,
     "metadata": {},
     "output_type": "execute_result"
    }
   ],
   "source": [
    "train_generator = DataGenerator(image_train, label_train, batch_size=32)\n",
    "val_generator = DataGenerator(image_val, label_val, batch_size=32)\n",
    "\n",
    "model.fit(\n",
    "    train_generator,\n",
    "    epochs=10,\n",
    "    validation_data=val_generator\n",
    ")"
   ]
  },
  {
   "cell_type": "code",
   "execution_count": null,
   "metadata": {},
   "outputs": [],
   "source": [
    "directory = \"models/VA61_9-10-23\"\n",
    "os.makedirs(directory, exist_ok=False)\n",
    "\n",
    "model.save(f\"{directory}/model.h5\")\n",
    "np.save(f\"{directory}/tokenizer.npy\", tokenizer)\n",
    "np.save(f\"{directory}/detokenizer.npy\", detokenizer)"
   ]
  },
  {
   "cell_type": "code",
   "execution_count": null,
   "metadata": {},
   "outputs": [],
   "source": [
    "# def predict(filename, from_folder=False):\n",
    "#     image = None\n",
    "\n",
    "#     if from_folder:\n",
    "#         image = preprocess_image(filename)\n",
    "\n",
    "#     image = np.expand_dims(image or filename, axis=0)\n",
    "\n",
    "#     if not from_folder:\n",
    "#         plt.imshow(image[0])\n",
    "\n",
    "#     predictions = model.predict(image)[0]\n",
    "#     predictions = np.argmax(predictions)\n",
    "\n",
    "#     result = detokenizer[predictions]\n",
    "\n",
    "#     return result\n"
   ]
  },
  {
   "cell_type": "code",
   "execution_count": null,
   "metadata": {},
   "outputs": [],
   "source": [
    "# ran_index = random.randint(0, len(image_val))\n",
    "# predictions = predict(image_val[ran_index], from_folder=False)\n",
    "# label = label_val[ran_index]\n",
    "\n",
    "# print(f\"predictions | {predictions}\")\n",
    "# print(f\"label       | {detokenizer[np.argmax(label)]}\")\n"
   ]
  }
 ],
 "metadata": {
  "kernelspec": {
   "display_name": "Python 3",
   "language": "python",
   "name": "python3"
  },
  "language_info": {
   "codemirror_mode": {
    "name": "ipython",
    "version": 3
   },
   "file_extension": ".py",
   "mimetype": "text/x-python",
   "name": "python",
   "nbconvert_exporter": "python",
   "pygments_lexer": "ipython3",
   "version": "3.10.10"
  },
  "orig_nbformat": 4
 },
 "nbformat": 4,
 "nbformat_minor": 2
}
